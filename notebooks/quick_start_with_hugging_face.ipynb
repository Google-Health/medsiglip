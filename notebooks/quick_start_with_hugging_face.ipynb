{
  "cells": [
    {
      "cell_type": "markdown",
      "metadata": {
        "id": "1fgVWTMK9SNz"
      },
      "source": [
        "~~~\n",
        "Copyright 2025 Google LLC\n",
        "\n",
        "Licensed under the Apache License, Version 2.0 (the \"License\");\n",
        "you may not use this file except in compliance with the License.\n",
        "You may obtain a copy of the License at\n",
        "\n",
        "    https://www.apache.org/licenses/LICENSE-2.0\n",
        "\n",
        "Unless required by applicable law or agreed to in writing, software\n",
        "distributed under the License is distributed on an \"AS IS\" BASIS,\n",
        "WITHOUT WARRANTIES OR CONDITIONS OF ANY KIND, either express or implied.\n",
        "See the License for the specific language governing permissions and\n",
        "limitations under the License.\n",
        "~~~\n",
        "# Quick start with Hugging Face\n",
        "\n",
        "\u003ctable\u003e\u003ctbody\u003e\u003ctr\u003e\n",
        "  \u003ctd style=\"text-align: center\"\u003e\n",
        "    \u003ca href=\"https://colab.research.google.com/github/google-health/medsiglip/blob/main/notebooks/quick_start_with_hugging_face.ipynb\"\u003e\n",
        "      \u003cimg alt=\"Google Colab logo\" src=\"https://www.tensorflow.org/images/colab_logo_32px.png\" width=\"32px\"\u003e\u003cbr\u003e Run in Google Colab\n",
        "    \u003c/a\u003e\n",
        "  \u003c/td\u003e  \n",
        "  \u003ctd style=\"text-align: center\"\u003e\n",
        "    \u003ca href=\"https://github.com/google-health/medsiglip/blob/main/notebooks/quick_start_with_hugging_face.ipynb\"\u003e\n",
        "      \u003cimg alt=\"GitHub logo\" src=\"https://github.githubassets.com/assets/GitHub-Mark-ea2971cee799.png\" width=\"32px\"\u003e\u003cbr\u003e View on GitHub\n",
        "    \u003c/a\u003e\n",
        "  \u003c/td\u003e\n",
        "  \u003ctd style=\"text-align: center\"\u003e\n",
        "    \u003ca href=\"https://huggingface.co/google/medsiglip-448\"\u003e\n",
        "      \u003cimg alt=\"Hugging Face logo\" src=\"https://huggingface.co/front/assets/huggingface_logo-noborder.svg\" width=\"32px\"\u003e\u003cbr\u003e View on Hugging Face\n",
        "    \u003c/a\u003e\n",
        "  \u003c/td\u003e\n",
        "\u003c/tr\u003e\u003c/tbody\u003e\u003c/table\u003e\n",
        "\n",
        "This Colab notebook provides a basic usage example of the MedSigLIP encoder that generates a machine learning representation of images, known as \"embeddings\", from medical images of a range of modalities. These embeddings can be used to develop custom machine learning models for medical use-cases with less data and compute compared to traditional model development methods. The model also includes a matched text encoder, enabling tasks involving direct matching of images and text.\n",
        "\n",
        "Learn more about embeddings and their benefits at [this page](https://developers.google.com/health-ai-developer-foundations/medsiglip)."
      ]
    },
    {
      "cell_type": "code",
      "execution_count": null,
      "metadata": {
        "id": "9XpCla68-Iol"
      },
      "outputs": [],
      "source": [
        "# @title ## Authenticate with HuggingFace, skip if you have a HF_TOKEN secret\n",
        "\n",
        "# Authenticate user for HuggingFace if needed. Enter token below if requested.\n",
        "from huggingface_hub.utils import HfFolder\n",
        "\n",
        "if HfFolder.get_token() is None:\n",
        "    from huggingface_hub import notebook_login\n",
        "    notebook_login()"
      ]
    },
    {
      "cell_type": "code",
      "execution_count": null,
      "metadata": {
        "id": "j81KORIqloq-"
      },
      "outputs": [],
      "source": [
        "# @title ## Load and display test image from SCIN Dataset\n",
        "# https://github.com/google-research-datasets/scin\n",
        "\n",
        "from PIL import Image\n",
        "from IPython.display import display\n",
        "\n",
        "# Download sample image\n",
        "! wget -nc -q https://storage.googleapis.com/dx-scin-public-data/dataset/images/3445096909671059178.png\n",
        "! wget -nc -q https://storage.googleapis.com/dx-scin-public-data/dataset/images/-5669089898008966381.png\n",
        "\n",
        "# Load the image, resize, and directly display it\n",
        "imgs = [Image.open(\"3445096909671059178.png\"), Image.open(\"-5669089898008966381.png\")]\n",
        "for img in imgs:\n",
        "    print(img.height, img.width)\n",
        "    display(img)"
      ]
    },
    {
      "cell_type": "code",
      "execution_count": null,
      "metadata": {
        "id": "FDeund84Uzya"
      },
      "outputs": [],
      "source": [
        "# @title ## (Optional) Resize images\n",
        "\n",
        "# @markdown If you want to reproduce the results from MedSigLIP evals, we\n",
        "# @markdown recommend a resizing operation with `tf.image.resize` to match the\n",
        "# @markdown implementation with the Big Vision [library](https://github.com/google-research/big_vision/blob/0127fb6b337ee2a27bf4e54dea79cff176527356/big_vision/pp/ops_image.py#L84).\n",
        "\n",
        "# @markdown Otherwise, you can rely on the Transformers image processor's\n",
        "# @markdown built-in resizing (done automatically by default and uses\n",
        "# @markdown `PIL.Image.resize`) or use another resizing method.\n",
        "\n",
        "from tensorflow.image import resize as tf_resize\n",
        "import numpy as np\n",
        "\n",
        "INPUT_DIMENSION = [448, 448]\n",
        "\n",
        "\n",
        "def resize(image):\n",
        "    return Image.fromarray(\n",
        "        tf_resize(\n",
        "            images=image, size=INPUT_DIMENSION, method='bilinear', antialias=False\n",
        "        ).numpy().astype(np.uint8)\n",
        "    )\n",
        "\n",
        "\n",
        "imgs = [resize(img) for img in imgs]"
      ]
    },
    {
      "cell_type": "code",
      "execution_count": null,
      "metadata": {
        "id": "RPIv5N0tv1Ht"
      },
      "outputs": [],
      "source": [
        "# @title ## Run zero-shot classification\n",
        "\n",
        "from transformers import AutoProcessor, AutoModel\n",
        "import torch\n",
        "import numpy as np\n",
        "\n",
        "zero_shot_model = AutoModel.from_pretrained(\"google/medsiglip-448\")\n",
        "processor = AutoProcessor.from_pretrained(\"google/medsiglip-448\")\n",
        "\n",
        "texts = [\n",
        "    \"a photo of an arm with no rash\",\n",
        "    \"a photo of an arm with a rash\",\n",
        "    \"a photo of a leg with no rash\",\n",
        "    \"a photo of a leg with a rash\"\n",
        "]\n",
        "inputs = processor(text=texts, images=imgs, padding=\"max_length\", return_tensors=\"pt\")\n",
        "\n",
        "with torch.no_grad():\n",
        "    outputs = zero_shot_model(**inputs)\n",
        "\n",
        "bests = np.argmax(outputs.logits_per_image, axis=1)\n",
        "for index, best in enumerate(bests):\n",
        "    print(f\"The best label for image {index} is '{texts[best]}'\")"
      ]
    },
    {
      "cell_type": "markdown",
      "metadata": {
        "id": "lWaTO1_ytQOf"
      },
      "source": [
        "## Obtain Image Embeddings"
      ]
    },
    {
      "cell_type": "code",
      "execution_count": null,
      "metadata": {
        "id": "Fhk4GKkwsAMj"
      },
      "outputs": [],
      "source": [
        "# @title Prepare model and inputs\n",
        "\n",
        "from transformers import AutoProcessor, SiglipVisionModel, AutoModel\n",
        "import torch\n",
        "import matplotlib.pyplot as plt\n",
        "\n",
        "model = SiglipVisionModel.from_pretrained(\"google/medsiglip-448\")\n",
        "processor = AutoProcessor.from_pretrained(\"google/medsiglip-448\")\n",
        "\n",
        "inputs = processor(images=imgs, padding=\"max_length\", return_tensors=\"pt\")"
      ]
    },
    {
      "cell_type": "code",
      "execution_count": null,
      "metadata": {
        "id": "RYnqJqvGoequ"
      },
      "outputs": [],
      "source": [
        "# @title Run model\n",
        "\n",
        "with torch.no_grad():\n",
        "    outputs = model(**inputs)"
      ]
    },
    {
      "cell_type": "code",
      "execution_count": null,
      "metadata": {
        "id": "dNuP85BKW6KD"
      },
      "outputs": [],
      "source": [
        "# @title Normalize outputs to embeddings\n",
        "\n",
        "# This matches the embeddings produced by the SiglipModel class.\n",
        "output_embeddings = outputs[\"pooler_output\"] / outputs[\"pooler_output\"].norm(p=2, dim=-1, keepdim=True)"
      ]
    },
    {
      "cell_type": "code",
      "execution_count": null,
      "metadata": {
        "id": "vooklnRPonSx"
      },
      "outputs": [],
      "source": [
        "# @title Visualize the embedding vector\n",
        "\n",
        "print(\"Size of embedding vector:\", output_embeddings.size()[1])\n",
        "# Plot the embedding vector\n",
        "plt.figure(figsize=(12, 4))\n",
        "for vector in output_embeddings.numpy():\n",
        "    plt.plot(vector)\n",
        "plt.title('Embedding Vectors')\n",
        "plt.xlabel('Index')\n",
        "plt.ylabel('Value')\n",
        "plt.grid(True)\n",
        "plt.show()"
      ]
    },
    {
      "cell_type": "markdown",
      "metadata": {
        "id": "PHTxQttKYNpa"
      },
      "source": [
        "# Next steps\n",
        "\n",
        "Explore the other [notebooks](https://github.com/google-health/medsiglip/blob/main/notebooks) to learn what else you can do with the model."
      ]
    }
  ],
  "metadata": {
    "colab": {
      "name": "quick_start_with_hugging_face.ipynb",
      "provenance": []
    },
    "kernelspec": {
      "display_name": "Python 3",
      "name": "python3"
    },
    "language_info": {
      "name": "python"
    }
  },
  "nbformat": 4,
  "nbformat_minor": 0
}
